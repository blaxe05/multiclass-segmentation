{
 "cells": [
  {
   "cell_type": "markdown",
   "metadata": {},
   "source": [
    "# MRI NIH : Data loading"
   ]
  },
  {
   "cell_type": "markdown",
   "metadata": {},
   "source": [
    "## Imports"
   ]
  },
  {
   "cell_type": "code",
   "execution_count": 5,
   "metadata": {},
   "outputs": [],
   "source": [
    "import os\n",
    "import torch\n",
    "import numpy as np\n",
    "import matplotlib.pyplot as plt\n",
    "from torch.utils.data import Dataset, DataLoader\n",
    "from torchvision import transforms, utils\n",
    "from msct_image import Image"
   ]
  },
  {
   "cell_type": "code",
   "execution_count": null,
   "metadata": {},
   "outputs": [],
   "source": [
    "class SegmentationSet2D(object):\n",
    "    \"\"\"This class is used to build 2D segmentation datasets. It represents a set of data volumes (the input data and ground truth data).\n",
    "\n",
    "    :param input_filename: the input filename (supported by nibabel).\n",
    "    :param gt_dict: a dictionary containing gt classes as keys and gt filenames as items.\n",
    "    :param cache: if the data should be cached in memory or not.\n",
    "    \"\"\"\n",
    "    \n",
    "    def __init__(self, input_filename, gt_dict, cache):\n",
    "        self.input_filename = input_filename\n",
    "        self.gt_dict = gt_dict\n",
    "        self.gt_classes = gt_dict.keys()\n",
    "        self.cache = cache\n",
    "        \n",
    "        self.input_handle = Image(input_filename).data\n",
    "        self.gt_handle = {}   \n",
    "        \n",
    "        for gt_class in self.gt_classes:\n",
    "            self.gt_handle[gt_class] = Image(gt_dict[gt_class]).data\n",
    "        \n",
    "        #sanity check for dimensions\n",
    "        input_shape, gt_shapes = seflf.get_shapes()\n",
    "        \n",
    "        for gt_shape in gt_shapes:\n",
    "            if gt_shape != input_shape:\n",
    "                raise RuntimeError('Input and ground truth with different dimensions.')\n",
    "        \n",
    "        def get_shapes(self):\n",
    "            \"\"\"Return the tuple (input, ground truth) representing both the input and the array of ground truth shapes.\"\"\"\n",
    "            \n",
    "        \n",
    "            "
   ]
  },
  {
   "cell_type": "code",
   "execution_count": null,
   "metadata": {},
   "outputs": [],
   "source": [
    "class MRI2DSegmentationDataset(Dataset):\n",
    "    \"\"\"This is a generic class for 2D (slice-wise) segmentation datasets.\n",
    "    \n",
    "    :param txt_path_file: the path to a txt file containing the list of paths to input data files and gt masks.\n",
    "    :param slice_axis: axis to make the slicing (default axial).\n",
    "    :param cache: if the data should be cached in memory or not.\n",
    "    :param transform: transformations to apply.\n",
    "    \"\"\"\n",
    "    def __init__(self, txt_path_file, slice_axis=2, cache=True, transform=None):\n",
    "        self.filenames = []\n",
    "        self.read_filenames(txt_path_file)\n",
    "        self.transform = transform\n",
    "        self.cache = cache\n",
    "        self.slice_axis = slice_axis\n",
    "        self.handlers = []\n",
    "        \n",
    "        self._load_filenames()\n",
    "    \n",
    "    def _load_files():\n",
    "        for input_filename, gt_dict in self.filenames:\n",
    "            segset = SegmentationSet2D(input_filename, gt_dict, self.cache)\n",
    "            self.handlers.append(segset)\n",
    "    \n",
    "    def read_filenames(txt_path_file):\n",
    "        for line in open(txt_path_file, 'r'):\n",
    "            if \"input\" in line:\n",
    "                fnames=[None, {}]\n",
    "                line = line.split()\n",
    "                if len(line)%2:\n",
    "                    raise RuntimeError('Error in filenames txt file parsing.')\n",
    "                for i in range(len(line)/2):\n",
    "                    try:\n",
    "                        Image(line[2*i+1])\n",
    "                    except Exception:\n",
    "                        print \"Invalid path in filenames txt file.\"\n",
    "                    if(line[2*i]==\"input\"):\n",
    "                        fnames[0]=line[2*i+1]\n",
    "                    else:\n",
    "                        fnames[1][line[2*i]]=line[2*i+1]\n",
    "                self.filenames.append((fnames[0], fnames[1]))\n",
    "        \n",
    "                "
   ]
  },
  {
   "cell_type": "code",
   "execution_count": 1,
   "metadata": {},
   "outputs": [
    {
     "name": "stdout",
     "output_type": "stream",
     "text": [
      "[]\n"
     ]
    }
   ],
   "source": [
    "print {}.keys()"
   ]
  },
  {
   "cell_type": "code",
   "execution_count": 11,
   "metadata": {},
   "outputs": [],
   "source": []
  },
  {
   "cell_type": "code",
   "execution_count": null,
   "metadata": {},
   "outputs": [],
   "source": []
  }
 ],
 "metadata": {
  "kernelspec": {
   "display_name": "Python 2",
   "language": "python",
   "name": "python2"
  },
  "language_info": {
   "codemirror_mode": {
    "name": "ipython",
    "version": 2
   },
   "file_extension": ".py",
   "mimetype": "text/x-python",
   "name": "python",
   "nbconvert_exporter": "python",
   "pygments_lexer": "ipython2",
   "version": "2.7.12"
  }
 },
 "nbformat": 4,
 "nbformat_minor": 2
}
