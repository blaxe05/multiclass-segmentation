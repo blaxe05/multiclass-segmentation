{
 "cells": [
  {
   "cell_type": "markdown",
   "metadata": {},
   "source": [
    "# MRI NIH : Data loading"
   ]
  },
  {
   "cell_type": "markdown",
   "metadata": {},
   "source": [
    "The input data is supposed to be sharing the same orientation, resolution and matrix size (i.e. sharing a common header for the whole dataset)."
   ]
  },
  {
   "cell_type": "markdown",
   "metadata": {},
   "source": [
    "## Imports"
   ]
  },
  {
   "cell_type": "code",
   "execution_count": 23,
   "metadata": {},
   "outputs": [],
   "source": [
    "import os\n",
    "import torch\n",
    "import numpy as np\n",
    "import matplotlib.pyplot as plt\n",
    "from torch.utils.data import Dataset, DataLoader\n",
    "from torchvision import transforms, utils\n",
    "from msct_image import Image as msct_Image\n",
    "from PIL import Image as PIL_Image"
   ]
  },
  {
   "cell_type": "code",
   "execution_count": 62,
   "metadata": {},
   "outputs": [],
   "source": [
    "class MRI2DSegmentationDataset(Dataset):\n",
    "    \"\"\"This is a generic class for 2D (slice-wise) segmentation datasets.\n",
    "    \n",
    "    :param txt_path_file: the path to a txt file containing the list of paths to input data files and gt masks.\n",
    "    :param slice_axis: axis to make the slicing (default axial).\n",
    "    :param cache: if the data should be cached in memory or not.\n",
    "    :param transform: transformations to apply.\n",
    "    \"\"\"\n",
    "    def __init__(self, txt_path_file, slice_axis=2, cache=True, transform=None):\n",
    "        self.filenames = []\n",
    "        self.header = {}\n",
    "        self.class_names = []\n",
    "        self.read_filenames(txt_path_file)\n",
    "        self.transform = transform\n",
    "        self.cache = cache\n",
    "        self.slice_axis = slice_axis\n",
    "        self.handlers = []\n",
    "        \n",
    "        self._load_files()\n",
    "    \n",
    "    def __len__(self):\n",
    "        return len(self.handlers)\n",
    "    \n",
    "    def __getitem__(self, index):\n",
    "        sample = self.handlers[index]\n",
    "        sample = [PIL_Image.fromarray(sample[i], mode='F') for i in range(sample.shape[0])]\n",
    "        if self.transform:\n",
    "            sample = [self.transform(sample_item) for sample_item in sample]\n",
    "        data_dict = {\n",
    "            'input': sample[0],\n",
    "            'gt': [sample[i] for i in range(1, len(sample))]\n",
    "        }\n",
    "        return data_dict\n",
    "        \n",
    "    \n",
    "    def _load_files(self):\n",
    "        for input_filename, gt_dict in self.filenames:\n",
    "            input_3D = msct_Image(input_filename)\n",
    "            input_header = {\"orientation\":input_3D.orientation, \"resolution\":list(np.around(input_3D.dim[4:6], 2)), \"matrix_size\":input_3D.dim[0:2]}\n",
    "            \n",
    "            gt_3D = []\n",
    "            gt_class_names = sorted(gt_dict.keys())\n",
    "            for gt_class in gt_class_names:\n",
    "                gt_3D.append(msct_Image(gt_dict[gt_class]))\n",
    "                  \n",
    "            if not self.header:\n",
    "                self.header = input_header\n",
    "            #sanity check for consistent header\n",
    "            elif self.header != input_header :\n",
    "                raise RuntimeError('Inconsistent header in input files.')\n",
    "                \n",
    "            if not self.class_names:\n",
    "                self.class_names = gt_class_names \n",
    "            #sanity check for consistent gt classes\n",
    "            elif self.class_names != gt_class_names:\n",
    "                raise RuntimeError('Inconsistent classes in gt files.')\n",
    "                \n",
    "            for i in range(input_3D.dim[2]):                \n",
    "                input_slice = input_3D.data[::,::,i]\n",
    "                gt_slices = [gt.data[::,::,i] for gt in gt_3D]\n",
    "                seg_item = [input_slice]\n",
    "                for gt_slice in gt_slices:\n",
    "                    if gt_slice.shape != input_slice.shape:\n",
    "                        raise RuntimeError('Input and ground truth with different dimensions.')\n",
    "                    seg_item.append(gt_slice)\n",
    "                self.handlers.append(np.array(seg_item))\n",
    "                \n",
    "    \n",
    "    def read_filenames(self, txt_path_file):\n",
    "        for line in open(txt_path_file, 'r'):\n",
    "            if \"input\" in line:\n",
    "                fnames=[None, {}]\n",
    "                line = line.split()\n",
    "                if len(line)%2:\n",
    "                    raise RuntimeError('Error in filenames txt file parsing.')\n",
    "                for i in range(len(line)/2):\n",
    "                    try:\n",
    "                        msct_Image(line[2*i+1])\n",
    "                    except Exception:\n",
    "                        print \"Invalid path in filenames txt file.\"\n",
    "                    if(line[2*i]==\"input\"):\n",
    "                        fnames[0]=line[2*i+1]\n",
    "                    else:\n",
    "                        fnames[1][line[2*i]]=line[2*i+1]\n",
    "                self.filenames.append((fnames[0], fnames[1]))\n",
    "        \n",
    "                "
   ]
  },
  {
   "cell_type": "code",
   "execution_count": null,
   "metadata": {},
   "outputs": [],
   "source": []
  }
 ],
 "metadata": {
  "kernelspec": {
   "display_name": "Python 2",
   "language": "python",
   "name": "python2"
  },
  "language_info": {
   "codemirror_mode": {
    "name": "ipython",
    "version": 2
   },
   "file_extension": ".py",
   "mimetype": "text/x-python",
   "name": "python",
   "nbconvert_exporter": "python",
   "pygments_lexer": "ipython2",
   "version": "2.7.12"
  }
 },
 "nbformat": 4,
 "nbformat_minor": 2
}
