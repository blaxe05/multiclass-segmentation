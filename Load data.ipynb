{
 "cells": [
  {
   "cell_type": "markdown",
   "metadata": {},
   "source": [
    "# MRI NIH : Data loading"
   ]
  },
  {
   "cell_type": "markdown",
   "metadata": {},
   "source": [
    "The input data is supposed to be sharing the same orientation, resolution and matrix size (i.e. sharing a common header for the whole dataset)."
   ]
  },
  {
   "cell_type": "markdown",
   "metadata": {},
   "source": [
    "## Imports"
   ]
  },
  {
   "cell_type": "code",
   "execution_count": 162,
   "metadata": {},
   "outputs": [],
   "source": [
    "import os\n",
    "import torch\n",
    "import numpy as np\n",
    "import matplotlib.pyplot as plt\n",
    "from torch.utils.data import Dataset, DataLoader\n",
    "from torchvision import transforms\n",
    "from msct_image import Image as msct_Image\n",
    "from PIL import Image as PIL_Image\n",
    "from scipy.ndimage.filters import gaussian_filter\n",
    "from scipy.ndimage.interpolation import map_coordinates"
   ]
  },
  {
   "cell_type": "markdown",
   "metadata": {},
   "source": [
    "## Hyperparameters"
   ]
  },
  {
   "cell_type": "code",
   "execution_count": 150,
   "metadata": {},
   "outputs": [],
   "source": [
    "## TODO : import from JSON file\n",
    "\n",
    "crop_size = (200, 150)\n",
    "flip_rate = 0.5\n",
    "scale_range = (0.5, 1)\n",
    "ratio_range = (0.75, 1.25)\n",
    "max_angle = 20 #degrees\n",
    "elastic_rate = 0.5\n",
    "alpha_range = (0.8, 1)\n",
    "sigma_range = (0.8, 1)"
   ]
  },
  {
   "cell_type": "markdown",
   "metadata": {},
   "source": [
    "## Transforms"
   ]
  },
  {
   "cell_type": "code",
   "execution_count": null,
   "metadata": {},
   "outputs": [],
   "source": [
    "class ElasticTransform(object):\n",
    "    def __init__(self, alpha_range, sigma_range, p=0.5):\n",
    "        self.alpha_range = alpha_range\n",
    "        self.sigma_range = sigma_range\n",
    "        self.p = p\n",
    "    \n",
    "    @staticmethod\n",
    "    def get_params(alpha_range, sigma_range):\n",
    "        alpha = np.random.uniform(alpha_range[0], alpha_range[1])\n",
    "        sigma = np.random.uniform(sigma_range[0], sigma_range[1])\n",
    "        return alpha, sigma\n",
    "\n",
    "    @staticmethod\n",
    "    def elastic_transform(image, alpha, sigma):\n",
    "        shape = image.shape\n",
    "        dx = gaussian_filter((np.random.rand(*shape) * 2 - 1), sigma, mode=\"constant\", cval=0) * alpha\n",
    "        dy = gaussian_filter((np.random.rand(*shape) * 2 - 1), sigma, mode=\"constant\", cval=0) * alpha\n",
    "\n",
    "        x, y = np.meshgrid(np.arange(shape[0]), np.arange(shape[1]), indexing='ij')\n",
    "        indices = np.reshape(x+dx, (-1, 1)), np.reshape(y+dy, (-1, 1))\n",
    "        return map_coordinates(image, indices, order=1).reshape(shape)\n",
    "\n",
    "    def __call__(self, sample):\n",
    "        if np.random.random() < self.p:\n",
    "            param_alpha, param_sigma = self.get_params(self.alpha_range, self.sigma_range)\n",
    "            np_sample = np.array(sample)\n",
    "            np_sample = self.elastic_transform(np_sample, param_alpha, param_sigma)\n",
    "            np_sample = PIL_Image.fromarray(np_sample, mode='F')\n",
    "\n",
    "        return sample\n",
    "\n",
    "class ToTensor(object):\n",
    "    def __call__(self, sample):\n",
    "        return torch.Tensor(np.array(sample))"
   ]
  },
  {
   "cell_type": "code",
   "execution_count": 198,
   "metadata": {},
   "outputs": [],
   "source": [
    "toTensor = ToTensor()\n",
    "toPIL = transforms.ToPILImage(mode='F')\n",
    "randomCrop = transforms.RandomCrop(crop_size)\n",
    "randomHFlip = transforms.RandomHorizontalFlip()\n",
    "radomResizedCrop = transforms.RandomResizedCrop(crop_size, scale=scale_range, ratio=ratio_range)\n",
    "randomRotation = transforms.RandomRotation(max_angle)\n",
    "elasticTransform = ElasticTransform(alpha_range, sigma_range, elastic_rate)\n",
    "\n",
    "composed = transforms.Compose([toPIL, elasticTransform, toTensor])"
   ]
  },
  {
   "cell_type": "markdown",
   "metadata": {},
   "source": [
    "## Dataset"
   ]
  },
  {
   "cell_type": "code",
   "execution_count": 140,
   "metadata": {},
   "outputs": [],
   "source": [
    "class MRI2DSegDataset(Dataset):\n",
    "    \"\"\"This is a generic class for 2D (slice-wise) segmentation datasets.\n",
    "    \n",
    "    :param txt_path_file: the path to a txt file containing the list of paths to input data files and gt masks.\n",
    "    :param slice_axis: axis to make the slicing (default axial).\n",
    "    :param cache: if the data should be cached in memory or not.\n",
    "    :param transform: transformations to apply.\n",
    "    \"\"\"\n",
    "    def __init__(self, txt_path_file, slice_axis=2, cache=True, transform=None):\n",
    "        self.filenames = []\n",
    "        self.header = {}\n",
    "        self.class_names = []\n",
    "        self.read_filenames(txt_path_file)\n",
    "        self.transform = transform\n",
    "        self.cache = cache\n",
    "        self.slice_axis = slice_axis\n",
    "        self.handlers = []\n",
    "        \n",
    "        self._load_files()\n",
    "    \n",
    "    def __len__(self):\n",
    "        return len(self.handlers)\n",
    "    \n",
    "    def __getitem__(self, index):\n",
    "        sample = self.handlers[index]\n",
    "#        sample = [PIL_Image.fromarray(sample[i], mode='F') for i in range(sample.shape[0])]\n",
    "        if self.transform:\n",
    "            sample = [self.transform(sample_item) for sample_item in sample]\n",
    "        data_dict = {\n",
    "            'input': sample[0],\n",
    "            'gt': [sample[i] for i in range(1, len(sample))]\n",
    "        }\n",
    "        return data_dict\n",
    "        \n",
    "    \n",
    "    def _load_files(self):\n",
    "        for input_filename, gt_dict in self.filenames:\n",
    "            input_3D = msct_Image(input_filename)\n",
    "            if self.slice_axis == 0:\n",
    "                resolution = list(np.around(input_3D.dim[5:7], 2))\n",
    "                matrix_size = input_3D.dim[1:3]\n",
    "            elif self.slice_axis == 1:\n",
    "                resolution = list(np.around([input_3D.dim[4], input_3D.dim[6]], 2))\n",
    "                matrix_size = (input_3D.dim[0], input_3D.dim[2])\n",
    "            else:\n",
    "                if self.slice_axis != 2:\n",
    "                    print \"Invalid slice axis given, replaced by default value of 2.\"\n",
    "                    self.slice_axis = 2\n",
    "                resolution = list(np.around(input_3D.dim[4:6], 2))\n",
    "                matrix_size = input_3D.dim[0:2]\n",
    "                \n",
    "            input_header = {\"orientation\":input_3D.orientation, \"resolution\":resolution, \"matrix_size\":matrix_size}\n",
    "            \n",
    "            gt_3D = []\n",
    "            gt_class_names = sorted(gt_dict.keys())\n",
    "            for gt_class in gt_class_names:\n",
    "                gt_3D.append(msct_Image(gt_dict[gt_class]))\n",
    "                  \n",
    "            if not self.header:\n",
    "                self.header = input_header\n",
    "            #sanity check for consistent header\n",
    "            elif self.header != input_header :\n",
    "                print self.header\n",
    "                print input_header\n",
    "                raise RuntimeError('Inconsistent header in input files.')\n",
    "                \n",
    "            if not self.class_names:\n",
    "                self.class_names = gt_class_names \n",
    "            #sanity check for consistent gt classes\n",
    "            elif self.class_names != gt_class_names:\n",
    "                raise RuntimeError('Inconsistent classes in gt files.')\n",
    "                \n",
    "            for i in range(input_3D.dim[2]):\n",
    "                if self.slice_axis == 0:\n",
    "                    input_slice = input_3D.data[i,::,::]\n",
    "                    gt_slices = [gt.data[i,::,::] for gt in gt_3D]\n",
    "                elif self.slice_axis == 1:\n",
    "                    input_slice = input_3D.data[::,i,::]\n",
    "                    gt_slices = [gt.data[::,i,::] for gt in gt_3D]\n",
    "                else:\n",
    "                    input_slice = input_3D.data[::,::,i]\n",
    "                    gt_slices = [gt.data[::,::,i] for gt in gt_3D]\n",
    "                seg_item = [input_slice.reshape((input_slice.shape[0], input_slice.shape[1], 1))]\n",
    "                for gt_slice in gt_slices:\n",
    "                    if gt_slice.shape != input_slice.shape:\n",
    "                        print \"input dimensions : {}\".format(input_slice.shape)\n",
    "                        print \"gt dimensions : {}\".format(gt_slice.shape)\n",
    "                        raise RuntimeError('Input and ground truth with different dimensions.')\n",
    "                    seg_item.append(gt_slice.reshape((input_slice.shape[0], input_slice.shape[1], 1)))\n",
    "                self.handlers.append(np.array(seg_item))\n",
    "                \n",
    "    \n",
    "    def read_filenames(self, txt_path_file):\n",
    "        for line in open(txt_path_file, 'r'):\n",
    "            if \"input\" in line:\n",
    "                fnames=[None, {}]\n",
    "                line = line.split()\n",
    "                if len(line)%2:\n",
    "                    raise RuntimeError('Error in filenames txt file parsing.')\n",
    "                for i in range(len(line)/2):\n",
    "                    try:\n",
    "                        msct_Image(line[2*i+1])\n",
    "                    except Exception:\n",
    "                        raise RuntimeError(\"Invalid path in filenames txt file.\")\n",
    "                    if(line[2*i]==\"input\"):\n",
    "                        fnames[0]=line[2*i+1]\n",
    "                    else:\n",
    "                        fnames[1][line[2*i]]=line[2*i+1]\n",
    "                self.filenames.append((fnames[0], fnames[1]))\n",
    "        \n",
    "                "
   ]
  },
  {
   "cell_type": "code",
   "execution_count": null,
   "metadata": {},
   "outputs": [],
   "source": []
  }
 ],
 "metadata": {
  "kernelspec": {
   "display_name": "Python 2",
   "language": "python",
   "name": "python2"
  },
  "language_info": {
   "codemirror_mode": {
    "name": "ipython",
    "version": 2
   },
   "file_extension": ".py",
   "mimetype": "text/x-python",
   "name": "python",
   "nbconvert_exporter": "python",
   "pygments_lexer": "ipython2",
   "version": "2.7.12"
  }
 },
 "nbformat": 4,
 "nbformat_minor": 2
}
