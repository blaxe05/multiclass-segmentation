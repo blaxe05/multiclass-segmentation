{
 "cells": [
  {
   "cell_type": "markdown",
   "metadata": {},
   "source": [
    "# MRI NIH : UNet"
   ]
  },
  {
   "cell_type": "markdown",
   "metadata": {},
   "source": [
    "To vizualize on tensor board :\n",
    "\n",
    "tensorboard --logdir runs"
   ]
  },
  {
   "cell_type": "markdown",
   "metadata": {},
   "source": [
    "## Imports"
   ]
  },
  {
   "cell_type": "code",
   "execution_count": 1,
   "metadata": {},
   "outputs": [],
   "source": [
    "import torch\n",
    "from dataset import MRI2DSegDataset\n",
    "import transforms\n",
    "import json\n",
    "from torchvision import transforms as torch_transforms\n",
    "import torchvision.utils as vutils\n",
    "from tensorboardX import SummaryWriter\n",
    "import torch.nn as nn\n",
    "import torch.nn.functional as F\n",
    "from torch.utils.data import Dataset, DataLoader\n",
    "from torch.autograd import Variable\n",
    "import torch.optim as optim\n",
    "import matplotlib.pyplot as plt\n",
    "from tqdm import tqdm\n",
    "import numpy as np"
   ]
  },
  {
   "cell_type": "markdown",
   "metadata": {},
   "source": [
    "## Hyperparameters"
   ]
  },
  {
   "cell_type": "code",
   "execution_count": 2,
   "metadata": {},
   "outputs": [
    {
     "name": "stdout",
     "output_type": "stream",
     "text": [
      "{\n",
      "    \"training\": {\n",
      "        \"learning_rate\": 0.0001, \n",
      "        \"optimizer\": \"sgd\", \n",
      "        \"loss_function\": \"dice\", \n",
      "        \"batch_size\": 2, \n",
      "        \"sgd_momentum\": 0.9\n",
      "    }, \n",
      "    \"transforms\": {\n",
      "        \"flip_rate\": 0.5, \n",
      "        \"ratio_range\": [\n",
      "            0.75, \n",
      "            1.25\n",
      "        ], \n",
      "        \"elastic_rate\": 0.3, \n",
      "        \"sigma_range\": [\n",
      "            3.5, \n",
      "            4\n",
      "        ], \n",
      "        \"alpha_range\": [\n",
      "            10, \n",
      "            15\n",
      "        ], \n",
      "        \"crop_size\": [\n",
      "            224, \n",
      "            128\n",
      "        ], \n",
      "        \"max_angle\": 20, \n",
      "        \"scale_range\": [\n",
      "            0.5, \n",
      "            1\n",
      "        ]\n",
      "    }, \n",
      "    \"net\": {\n",
      "        \"drop_rate\": 0.01, \n",
      "        \"bn_momentum\": 0.1\n",
      "    }\n",
      "}\n"
     ]
    }
   ],
   "source": [
    "parameters = json.load(open('/Users/frpau_local/Documents/nih/data/luisa_with_gt/parameters.json'))\n",
    "print json.dumps(parameters, indent=4)"
   ]
  },
  {
   "cell_type": "markdown",
   "metadata": {},
   "source": [
    "## Create dataset"
   ]
  },
  {
   "cell_type": "code",
   "execution_count": 3,
   "metadata": {},
   "outputs": [
    {
     "name": "stderr",
     "output_type": "stream",
     "text": [
      "/Users/frpau_local/sct_3.1.1/python/lib/python2.7/site-packages/h5py/__init__.py:34: FutureWarning: Conversion of the second argument of issubdtype from `float` to `np.floating` is deprecated. In future, it will be treated as `np.float64 == np.dtype(float).type`.\n",
      "  from ._conv import register_converters as _register_converters\n"
     ]
    }
   ],
   "source": [
    "toTensor = transforms.ToTensor()\n",
    "toPIL = transforms.ToPIL()\n",
    "randomVFlip = transforms.RandomVerticalFlip()\n",
    "randomResizedCrop = transforms.RandomResizedCrop(parameters[\"transforms\"][\"crop_size\"], scale=parameters[\"transforms\"][\"scale_range\"], ratio=parameters[\"transforms\"][\"ratio_range\"])\n",
    "randomRotation = transforms.RandomRotation(parameters[\"transforms\"][\"max_angle\"])\n",
    "elasticTransform = transforms.ElasticTransform(parameters[\"transforms\"][\"alpha_range\"], parameters[\"transforms\"][\"sigma_range\"], parameters[\"transforms\"][\"elastic_rate\"])\n",
    "\n",
    "composed = torch_transforms.Compose([toPIL,randomVFlip,randomRotation,randomResizedCrop, elasticTransform, toTensor])\n",
    "\n",
    "dataset = MRI2DSegDataset(\"/Users/frpau_local/Documents/nih/data/luisa_with_gt/filenames_csf_gm_nawm.txt\", transform = composed)"
   ]
  },
  {
   "cell_type": "markdown",
   "metadata": {},
   "source": [
    "## Define net"
   ]
  },
  {
   "cell_type": "code",
   "execution_count": 4,
   "metadata": {},
   "outputs": [],
   "source": [
    "class DownConv(nn.Module):\n",
    "    def __init__(self, in_feat, out_feat, drop_rate=0.4, bn_momentum=0.1):\n",
    "        super(DownConv, self).__init__()\n",
    "        self.conv1 = nn.Conv2d(in_feat, out_feat, kernel_size=3, padding=1)\n",
    "        self.conv1_bn = nn.BatchNorm2d(out_feat, momentum=bn_momentum)\n",
    "        self.conv1_drop = nn.Dropout2d(drop_rate)\n",
    "        \n",
    "        self.conv2 = nn.Conv2d(out_feat, out_feat, kernel_size=3, padding=1)\n",
    "        self.conv2_bn = nn.BatchNorm2d(out_feat, momentum=bn_momentum)\n",
    "        self.conv2_drop = nn.Dropout2d(drop_rate)\n",
    "        \n",
    "    def forward(self, x):\n",
    "        x = F.relu(self.conv1(x))\n",
    "        x = self.conv1_bn(x)\n",
    "        x = self.conv1_drop(x)\n",
    "        \n",
    "        x = F.relu(self.conv2(x))\n",
    "        x = self.conv2_bn(x)\n",
    "        x = self.conv2_drop(x)        \n",
    "        return x\n",
    "    \n",
    "class UpConv(nn.Module):\n",
    "    def __init__(self, in_feat, out_feat, drop_rate=0.4, bn_momentum=0.1):\n",
    "        super(UpConv, self).__init__()\n",
    "        self.up1 = nn.Upsample(scale_factor=2, mode='bilinear')\n",
    "        self.downconv = DownConv(in_feat, out_feat, drop_rate, bn_momentum)\n",
    "    \n",
    "    def forward(self, x, y):\n",
    "        x = self.up1(x)\n",
    "        x = torch.cat([x, y], dim=1)\n",
    "        x = self.downconv(x)\n",
    "        return x\n",
    "\n",
    "class UNet(nn.Module):\n",
    "    def __init__(self, drop_rate=0.4, bn_momentum=0.1):\n",
    "        super(UNet, self).__init__()\n",
    "        \n",
    "        #Downsampling path\n",
    "        self.conv1 = DownConv(1, 64, drop_rate, bn_momentum)\n",
    "        self.mp1 = nn.MaxPool2d(2)\n",
    "\n",
    "        self.conv2 = DownConv(64, 128, drop_rate, bn_momentum)\n",
    "        self.mp2 = nn.MaxPool2d(2)    \n",
    "\n",
    "        self.conv3 = DownConv(128, 256, drop_rate, bn_momentum)\n",
    "        self.mp3 = nn.MaxPool2d(2)          \n",
    "\n",
    "        # Bottom\n",
    "        self.conv4 = DownConv(256, 256, drop_rate, bn_momentum)\n",
    "\n",
    "        # Upsampling path\n",
    "        self.up1 = UpConv(512, 256, drop_rate, bn_momentum)\n",
    "        self.up2 = UpConv(384, 128, drop_rate, bn_momentum)\n",
    "        self.up3 = UpConv(192, 64, drop_rate, bn_momentum)\n",
    "\n",
    "        self.conv9 = nn.Conv2d(64, 4, kernel_size=3, padding=1)\n",
    "\n",
    "    def forward(self, x):\n",
    "        x1 = self.conv1(x)\n",
    "        x2 = self.mp1(x1)\n",
    "\n",
    "        x3 = self.conv2(x2)\n",
    "        x4 = self.mp2(x3)\n",
    "        \n",
    "        x5 = self.conv3(x4)\n",
    "        x6 = self.mp3(x5)    \n",
    "        \n",
    "        # Bottom\n",
    "        x7 = self.conv4(x6)\n",
    "        \n",
    "        # Up-sampling\n",
    "        x8 = self.up1(x7, x5)\n",
    "        x9 = self.up2(x8, x3)\n",
    "        x10 = self.up3(x9, x1)\n",
    "        \n",
    "        x11 = self.conv9(x10)\n",
    "        preds = F.sigmoid(x11)        \n",
    "        \n",
    "        return preds\n"
   ]
  },
  {
   "cell_type": "markdown",
   "metadata": {},
   "source": [
    "## Dice loss"
   ]
  },
  {
   "cell_type": "code",
   "execution_count": 5,
   "metadata": {},
   "outputs": [],
   "source": [
    "def get_bg_gt(gts):\n",
    "    gt_size = gts[0].size()\n",
    "    bg_gt = torch.ones([gt_size[0],1,gt_size[2], gt_size[3]])\n",
    "    zeros = torch.zeros([gt_size[0],1,gt_size[2], gt_size[3]])\n",
    "    for gt in gts:\n",
    "        bg_gt = torch.max(bg_gt - gt, zeros)\n",
    "    return bg_gt\n",
    "\n",
    "def dice(pred, gt):\n",
    "    eps = 0.0000000001\n",
    "    return -(2*(pred.data.contiguous().view(-1)*gt.view(-1)).sum()+eps)/(torch.sum(pred)+torch.sum(gt)+eps)\n",
    "\n",
    "def dice_loss(pred, gts):\n",
    "    bg_gt = get_bg_gt(gts)\n",
    "    loss = dice(pred[::,0,::,::], bg_gt)\n",
    "    for i in range(len(gts)):\n",
    "        loss = loss+dice(pred[::,i+1,::,::], gts[i])\n",
    "    return loss"
   ]
  },
  {
   "cell_type": "markdown",
   "metadata": {},
   "source": [
    "## Metrics"
   ]
  },
  {
   "cell_type": "code",
   "execution_count": 6,
   "metadata": {},
   "outputs": [],
   "source": [
    "def numeric_score(pred, gts):\n",
    "    \"\"\"Computation of statistical numerical scores:\n",
    "\n",
    "    * FP = False Positives\n",
    "    * FN = False Negatives\n",
    "    * TP = True Positives\n",
    "    * TN = True Negatives\n",
    "\n",
    "    return: tuple (FP, FN, TP, TN)\n",
    "    \"\"\"\n",
    "    np_pred = pred.numpy()\n",
    "    np_gts = [get_bg_gt(gts)]+gts\n",
    "    np_gts = [gt.numpy() for gt in gts]\n",
    "    FP = []\n",
    "    FN = []\n",
    "    TP = []\n",
    "    TN = []\n",
    "    for i in range(len(gts)):\n",
    "        FP.append(np.float(np.sum((np_pred == i) & (np_gts[i] == 0))))\n",
    "        FN.append(np.float(np.sum((np_pred != i) & (np_gts[i] == 1))))\n",
    "        TP.append(np.float(np.sum((np_pred == i) & (np_gts[i] == 1))))\n",
    "        TN.append(np.float(np.sum((np_pred != i) & (np_gts[i] == 0))))\n",
    "    return FP, FN, TP, TN\n",
    "\n",
    "\n",
    "def precision_score(FP, FN, TP, TN):\n",
    "    # PPV\n",
    "    precision = []\n",
    "    for i in range(len(FP)):\n",
    "        if (TP[i] + FP[i]) <= 0.0:\n",
    "            precision.append(0.0)\n",
    "        else:\n",
    "            precision.append(np.divide(TP[i], TP[i] + FP[i])* 100.0)\n",
    "    return precision\n",
    "\n",
    "\n",
    "def recall_score(FP, FN, TP, TN):\n",
    "    # TPR, sensitivity\n",
    "    TPR = []\n",
    "    for i in range(len(FP)):\n",
    "        if (TP[i] + FN[i]) <= 0.0:\n",
    "            TPR.append(0.0)\n",
    "        else:\n",
    "            TPR.append(np.divide(TP[i], TP[i] + FN[i]) * 100.0)\n",
    "    return TPR\n",
    "\n",
    "\n",
    "def specificity_score(FP, FN, TP, TN):\n",
    "    TNR = []\n",
    "    for i in range(len(FP)):\n",
    "        if (TN[i] + FP[i]) <= 0.0:\n",
    "            TNR.append(0.0)\n",
    "        else:\n",
    "            TNR.append(np.divide(TN[i], TN[i] + FP[i]) * 100.0)\n",
    "    return TNR \n",
    "\n",
    "\n",
    "def intersection_over_union(FP, FN, TP, TN):\n",
    "    IOU = []\n",
    "    for i in range(len(FP)):\n",
    "        if (TP[i] + FP[i] + FN[i]) <= 0.0:\n",
    "            IOU.append(0.0)\n",
    "        else:\n",
    "            IOU.append(TP[i] / (TP[i] + FP[i] + FN[i]) * 100.0)\n",
    "    return IOU\n",
    "\n",
    "\n",
    "def accuracy_score(FP, FN, TP, TN):\n",
    "    accuracy = []\n",
    "    for i in range(len(FP)):\n",
    "        N = FP[i] + FN[i] + TP[i] + TN[i]\n",
    "        accuracy.append(np.divide(TP[i] + TN[i], N) * 100.0)\n",
    "    return accuracy"
   ]
  },
  {
   "cell_type": "code",
   "execution_count": 7,
   "metadata": {},
   "outputs": [],
   "source": [
    "net = UNet(drop_rate=parameters[\"net\"][\"drop_rate\"], bn_momentum=parameters[\"net\"][\"bn_momentum\"])\n",
    "dataloader = DataLoader(dataset, batch_size=parameters[\"training\"][\"batch_size\"], shuffle=True, num_workers=4)\n",
    "if parameters[\"training\"][\"optimizer\"]==\"sgd\":\n",
    "    optimizer = optim.SGD(net.parameters(), lr=parameters[\"training\"]['learning_rate'], momentum=parameters[\"training\"]['sgd_momentum'])\n",
    "if parameters[\"training\"][\"loss_function\"]==\"dice\":\n",
    "    loss_function = dice_loss"
   ]
  },
  {
   "cell_type": "markdown",
   "metadata": {},
   "source": [
    "## training"
   ]
  },
  {
   "cell_type": "code",
   "execution_count": null,
   "metadata": {},
   "outputs": [
    {
     "name": "stderr",
     "output_type": "stream",
     "text": [
      "\n",
      "\n",
      "  0%|          | 0/30 [00:00<?, ?it/s]\u001b[A\u001b[A\n",
      "\u001b[A\n",
      "\n",
      "  3%|▎         | 1/30 [01:50<53:13, 110.13s/it]\u001b[A\u001b[A\n",
      "\n",
      "  7%|▋         | 2/30 [03:41<51:37, 110.63s/it]\u001b[A\u001b[A\n",
      "\n",
      " 10%|█         | 3/30 [05:30<49:26, 109.88s/it]\u001b[A\u001b[A\n",
      "\n",
      " 13%|█▎        | 4/30 [07:19<47:35, 109.84s/it]\u001b[A\u001b[A\n",
      "\n",
      " 17%|█▋        | 5/30 [09:10<45:51, 110.06s/it]\u001b[A\u001b[A\n",
      "\n",
      " 20%|██        | 6/30 [11:01<44:10, 110.43s/it]\u001b[A\u001b[A\n",
      "\n",
      " 23%|██▎       | 7/30 [12:52<42:23, 110.60s/it]\u001b[A\u001b[A"
     ]
    }
   ],
   "source": [
    "writer = SummaryWriter()\n",
    "# add hyperparameters to description\n",
    "writer.add_text(\"hyperparameters\", json.dumps(parameters))\n",
    "\n",
    "for epoch in tqdm(range(30)):\n",
    "    \n",
    "    loss_agg = 0.\n",
    "    \n",
    "    for i_batch, sample_batched in enumerate(dataloader):\n",
    "        output =  net(sample_batched['input'])\n",
    "        predictions = torch.argmax(output, 1, keepdim=True)\n",
    "        loss = loss_function(output, sample_batched['gt'])\n",
    "        loss.backward()\n",
    "        optimizer.step()\n",
    "        loss_agg += loss.item()\n",
    "        \n",
    "        # Visualization\n",
    "        if not i_batch%5 and i_batch>0:\n",
    "            n_iter = epoch*len(dataloader)+i_batch\n",
    "            \n",
    "            # loss\n",
    "            writer.add_scalar(\"loss_\"+parameters[\"training\"][\"loss_function\"], loss_agg/5, n_iter)\n",
    "            loss_agg = 0.\n",
    "            \n",
    "            # metrics\n",
    "            FP, FN, TP, TN = numeric_score(predictions, sample_batched['gt'])\n",
    "            precision = precision_score(FP, FN, TP, TN)\n",
    "            recall = recall_score(FP, FN, TP, TN)\n",
    "            specificity = specificity_score(FP, FN, TP, TN)\n",
    "            iou = intersection_over_union(FP, FN, TP, TN)\n",
    "            accuracy = accuracy_score(FP, FN, TP, TN)\n",
    "            for i in range(len(sample_batched['gt'])):\n",
    "                writer.add_scalar(\"precision_\"+str(i), precision[i], n_iter)\n",
    "                writer.add_scalar(\"recall_\"+str(i), recall[i], n_iter)\n",
    "                writer.add_scalar(\"specificity_\"+str(i), specificity[i], n_iter)\n",
    "                writer.add_scalar(\"intersection_over_union_\"+str(i), iou[i], n_iter)\n",
    "                writer.add_scalar(\"accuracy_\"+str(i), accuracy[i], n_iter)\n",
    "\n",
    "            #images\n",
    "            input_image = vutils.make_grid(sample_batched['input'][0]/torch.max(sample_batched['input'][0]), normalize=True, scale_each=True)\n",
    "            writer.add_image('Input image', input_image, n_iter)\n",
    "            output_bg = vutils.make_grid(output[0,0,::,::], normalize=True, scale_each=True)\n",
    "            pred_bg = vutils.make_grid(predictions[0,0,::,::]==0, normalize=True, scale_each=True)\n",
    "            writer.add_image('Output background', output_bg, n_iter)\n",
    "            writer.add_image('Prediction background', pred_bg, n_iter)\n",
    "            for i in range(len(sample_batched['gt'])):\n",
    "                output_image = vutils.make_grid(output[0,i+1,::,::], normalize=True, scale_each=True)\n",
    "                pred_image = vutils.make_grid(predictions[0,0,::,::]==i+1, normalize=True, scale_each=True)\n",
    "                writer.add_image('Output class '+str(i+1), output_image, n_iter)\n",
    "                writer.add_image('Prediction class '+str(i+1), pred_image, n_iter)\n",
    "                gt_image = vutils.make_grid(sample_batched['gt'][i][0,::,::], normalize=True, scale_each=True)\n",
    "                writer.add_image('gt class '+str(i+1), gt_image, n_iter)\n",
    "            bg_gt = get_bg_gt(sample_batched['gt'])\n",
    "            bg_gt_image = vutils.make_grid(bg_gt[0,::,::], normalize=True, scale_each=True)\n",
    "            writer.add_image('gt background', bg_gt_image, n_iter)\n",
    "                \n",
    "            # net parameters histograms\n",
    "            for name, param in net.named_parameters():\n",
    "                writer.add_histogram(name, param.clone().cpu().data.numpy(), n_iter)\n",
    "\n",
    "                \n",
    "writer.export_scalars_to_json(\"./all_scalars.json\")\n",
    "writer.close()\n",
    "\n",
    "print \"training complete\"\n",
    "    "
   ]
  },
  {
   "cell_type": "code",
   "execution_count": 59,
   "metadata": {},
   "outputs": [],
   "source": [
    "writer.close()"
   ]
  },
  {
   "cell_type": "code",
   "execution_count": null,
   "metadata": {},
   "outputs": [],
   "source": []
  }
 ],
 "metadata": {
  "kernelspec": {
   "display_name": "Python 2",
   "language": "python",
   "name": "python2"
  },
  "language_info": {
   "codemirror_mode": {
    "name": "ipython",
    "version": 2
   },
   "file_extension": ".py",
   "mimetype": "text/x-python",
   "name": "python",
   "nbconvert_exporter": "python",
   "pygments_lexer": "ipython2",
   "version": "2.7.12"
  }
 },
 "nbformat": 4,
 "nbformat_minor": 2
}
